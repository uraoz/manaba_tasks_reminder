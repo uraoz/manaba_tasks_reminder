{
 "cells": [
  {
   "cell_type": "code",
   "execution_count": 15,
   "metadata": {},
   "outputs": [],
   "source": [
    "import pyotp\n",
    "import time\n",
    "from selenium import webdriver\n",
    "from selenium.webdriver.support import expected_conditions as EC\n",
    "from selenium.webdriver.common.by import By\n",
    "from selenium.webdriver.support.ui import WebDriverWait\n",
    "from time import sleep\n",
    "from selenium.webdriver.chrome.options import Options\n",
    "from datetime import datetime as dt\n",
    "from secret_env import USERNAME, PASSWORD, TOTP_TOKEN, DRIVER_PATH #後でenvにする\n"
   ]
  },
  {
   "cell_type": "code",
   "execution_count": 17,
   "metadata": {},
   "outputs": [],
   "source": [
    "def manaba_login():\n",
    "    URL = 'https://ct.ritsumei.ac.jp/ct/home'\n",
    "    driver.get(URL)\n",
    "    driver.implicitly_wait(500)\n",
    "\n",
    "    sleep(3)\n",
    "    mail_field = driver.find_element(By.XPATH, '//*[@id=\"i0116\"]')\n",
    "    mail_field.send_keys(USERNAME)\n",
    "    next_botton = driver.find_element(By.XPATH, '//*[@id=\"idSIButton9\"]')\n",
    "    next_botton.click()\n",
    "    driver.implicitly_wait(10)\n",
    "\n",
    "    sleep(3)\n",
    "    password_field = driver.find_element(By.XPATH, '//*[@id=\"i0118\"]')\n",
    "    password_field.send_keys(PASSWORD)\n",
    "    driver.implicitly_wait(10)\n",
    "    signin_botton = driver.find_element(By.XPATH, '//*[@id=\"idSIButton9\"]')\n",
    "    signin_botton.click()\n",
    "    driver.implicitly_wait(10)\n",
    "\n",
    "    sleep(3)\n",
    "    totp_field = driver.find_element(By.XPATH, '//*[@id=\"idTxtBx_SAOTCC_OTC\"]')\n",
    "    totp = pyotp.TOTP(TOTP_TOKEN)\n",
    "    totp_field.send_keys(totp.now())\n",
    "    totp_botton = driver.find_element(By.XPATH, '//*[@id=\"idSubmit_SAOTCC_Continue\"]')\n",
    "    totp_botton.click()\n",
    "    keeplogin_botton = driver.find_element(By.XPATH, '//*[@id=\"idSIButton9\"]')\n",
    "    keeplogin_botton.click()\n",
    "\n",
    "def moodle_login():\n",
    "    URL = 'https://lms.ritsumei.ac.jp'\n",
    "    driver.get(URL)\n",
    "    driver.implicitly_wait(500)\n",
    "\n",
    "    sleep(3)\n",
    "    mail_field = driver.find_element(By.XPATH, '//*[@id=\"i0116\"]')\n",
    "    mail_field.send_keys(USERNAME)\n",
    "    next_botton = driver.find_element(By.XPATH, '//*[@id=\"idSIButton9\"]')\n",
    "    next_botton.click()\n",
    "    driver.implicitly_wait(10)\n",
    "\n",
    "    sleep(3)\n",
    "    password_field = driver.find_element(By.XPATH, '//*[@id=\"i0118\"]')\n",
    "    password_field.send_keys(PASSWORD)\n",
    "    driver.implicitly_wait(10)\n",
    "    signin_botton = driver.find_element(By.XPATH, '//*[@id=\"idSIButton9\"]')\n",
    "    signin_botton.click()\n",
    "    driver.implicitly_wait(10)\n",
    "\n",
    "    sleep(3)\n",
    "    totp_field = driver.find_element(By.XPATH, '//*[@id=\"idTxtBx_SAOTCC_OTC\"]')\n",
    "    totp = pyotp.TOTP(TOTP_TOKEN)\n",
    "    totp_field.send_keys(totp.now())\n",
    "    totp_botton = driver.find_element(By.XPATH, '//*[@id=\"idSubmit_SAOTCC_Continue\"]')\n",
    "    totp_botton.click()\n",
    "    keeplogin_botton = driver.find_element(By.XPATH, '//*[@id=\"idSIButton9\"]')\n",
    "    keeplogin_botton.click()\n",
    "    \n",
    "options = Options()\n",
    "options.add_argument('--headless')\n",
    "cService = webdriver.ChromeService(executable_path=DRIVER_PATH)\n",
    "driver = webdriver.Chrome(service=cService)\n",
    "\n",
    "manaba_login()\n",
    "#moodle_login()"
   ]
  },
  {
   "cell_type": "code",
   "execution_count": null,
   "metadata": {},
   "outputs": [],
   "source": [
    "def moodle_get_session():"
   ]
  },
  {
   "cell_type": "code",
   "execution_count": 18,
   "metadata": {},
   "outputs": [],
   "source": [
    "def manaba_get_tasks():\n",
    "    sleep(3)\n",
    "    tasks_botton = driver.find_element(By.XPATH, '//*[@id=\"container\"]/div[2]/div/div[4]/div[2]/div[2]/div/a')\n",
    "    tasks_botton.click() #未提出の課題一覧\n",
    "\n",
    "manaba_get_tasks()"
   ]
  }
 ],
 "metadata": {
  "kernelspec": {
   "display_name": "Python 3 (ipykernel)",
   "language": "python",
   "name": "python3"
  },
  "language_info": {
   "codemirror_mode": {
    "name": "ipython",
    "version": 3
   },
   "file_extension": ".py",
   "mimetype": "text/x-python",
   "name": "python",
   "nbconvert_exporter": "python",
   "pygments_lexer": "ipython3",
   "version": "3.9.13"
  }
 },
 "nbformat": 4,
 "nbformat_minor": 4
}
